{
 "cells": [
  {
   "cell_type": "code",
   "execution_count": 5,
   "metadata": {
    "collapsed": true
   },
   "outputs": [],
   "source": [
    "import numpy as np\n",
    "import astropy.constants as cnst\n",
    "\n",
    "c = cnst.c.cgs\n",
    "c = c.value"
   ]
  },
  {
   "cell_type": "code",
   "execution_count": 101,
   "metadata": {
    "collapsed": true
   },
   "outputs": [],
   "source": [
    "types_of_errors = {'undulation':False ,'calibration': False, 'corr_cali':False, 'ciba': True}\n",
    "#calibration = 0.01#np.sqrt(0.01**2+0.015**2) # [percentage in decimal]\n",
    "\n",
    "other_uncertainty = {'160':{'undulation': 1.77, 'corr_cali': 0.05, 'calibration': 0.01, 'ciba': 1.0},\n",
    "\t\t\t\t\t '250':{'undulation': 0.27, 'corr_cali': 0.05, 'calibration': 0.01, 'ciba': 1.0}, \n",
    "        \t\t\t '350':{'undulation': 0.18, 'corr_cali': 0.05, 'calibration': 0.01, 'ciba': 1.0},\n",
    "        \t\t\t '500':{'undulation': 0.00, 'corr_cali': 0.05, 'calibration': 0.01, 'ciba': 1.0}, \n",
    "        \t\t\t}\n",
    "\n"
   ]
  },
  {
   "cell_type": "code",
   "execution_count": 102,
   "metadata": {},
   "outputs": [
    {
     "name": "stdout",
     "output_type": "stream",
     "text": [
      "Wavelength in [micron]: [ 160.  250.  350.  500.]\n",
      "Frequency in [GHz]: [ 1873.7028625  1199.169832    856.54988     599.584916 ]\n"
     ]
    }
   ],
   "source": [
    "wavelength = [160, 250, 350, 500]\n",
    "Wavelength = np.array(wavelength).astype('float64')  \n",
    "print ('Wavelength in [micron]:', Wavelength) \n",
    "Wavelength = Wavelength/10000\t\t\t\t# [cm]\n",
    "Frequency = (c/Wavelength)\t\t\t\t\t# [Hz] \n",
    "print ('Frequency in [GHz]:', Frequency/1e9)"
   ]
  },
  {
   "cell_type": "code",
   "execution_count": 114,
   "metadata": {},
   "outputs": [
    {
     "name": "stdout",
     "output_type": "stream",
     "text": [
      "0 1.0\n",
      "0 1.0\n",
      "0 0\n",
      "1.0 0\n",
      "1.0 1.0\n",
      "1.0 0\n",
      "1.0 0\n",
      "1.0 1.0\n",
      "1.0 0\n",
      "0 0\n",
      "0 1.0\n",
      "0 1.0\n"
     ]
    }
   ],
   "source": [
    "types_of_errors = {'undulation':False ,'calibration': False, 'corr_cali':False, 'ciba':True}\n",
    "C = np.zeros([len(Frequency), len(Frequency)]) \n",
    "\n",
    "method_names = ['undulation', 'calibration', 'corr_cali', 'ciba'] \n",
    "\n",
    "'''\n",
    "for m in method_names:\n",
    "    if types_of_errors[m] == True:\n",
    "        for f in range(len(Frequency)):\n",
    "            lmbda = str(int(wavelength[f]))\n",
    "            C[f,f] = 1.0*C[f,f]**2+other_uncertainty[lmbda][m]**2\n",
    "\n",
    "'''\n",
    "\n",
    "\n",
    "for f in range(len(Frequency)):\n",
    "    lmbda = str(int(wavelength[f]))\n",
    "    if types_of_errors['undulation'] == True:\n",
    "        C[f,f] = 1.0*C[f,f]**2+other_uncertainty[lmbda]['undulation']**2\n",
    "        \n",
    "    if types_of_errors['calibration'] == True:\n",
    "        C[f,f] = 1.0*C[f,f]**2+other_uncertainty[lmbda]['calibration']**2\n",
    "        \n",
    "    if types_of_errors['corr_cali'] == True:\n",
    "        for q in range(len(Frequency)):\n",
    "            factor = 1.0\n",
    "            lmbda2 = str(int(wavelength[q]))\n",
    "            if f == q:\n",
    "                C[f,q] = 1.0*C[f,q]**2+other_uncertainty[lmbda]['corr_cali']**2\n",
    "                #print ([C[f,q]])\n",
    "            else:\n",
    "                sigma1 = other_uncertainty[lmbda]['corr_cali']\n",
    "                sigma2 = other_uncertainty[lmbda2]['corr_cali']\n",
    "                C[f,q] = C[f,q]**2+(factor*sigma1*sigma2)\n",
    "            \n",
    "    if types_of_errors['ciba'] == True:\n",
    "        for q in range(len(Frequency)):\n",
    "            factor = [0, 1.0, 1.0, 0]\n",
    "            lmbda2 = str(int(wavelength[q]))\n",
    "            if f == q:\n",
    "                C[f,q] = 1.0*C[f,q]**2+other_uncertainty[lmbda]['ciba']**2\n",
    "                #print ([C[f,q]])\n",
    "            else:\n",
    "                print (factor[f], factor[q])\n",
    "                sigma1 = factor[f]*other_uncertainty[lmbda]['ciba']\n",
    "                sigma2 = factor[q]*other_uncertainty[lmbda2]['ciba']\n",
    "                C[f,q] = C[f,q]**2+(sigma1*sigma2)\n"
   ]
  },
  {
   "cell_type": "code",
   "execution_count": 115,
   "metadata": {},
   "outputs": [
    {
     "name": "stdout",
     "output_type": "stream",
     "text": [
      "[[ 1.  0.  0.  0.]\n",
      " [ 0.  1.  2.  0.]\n",
      " [ 0.  2.  1.  0.]\n",
      " [ 0.  0.  0.  1.]]\n"
     ]
    }
   ],
   "source": [
    "print (C)"
   ]
  },
  {
   "cell_type": "code",
   "execution_count": 122,
   "metadata": {},
   "outputs": [
    {
     "name": "stdout",
     "output_type": "stream",
     "text": [
      "[[1 2]\n",
      " [2 1]]\n",
      "-3.0\n"
     ]
    }
   ],
   "source": [
    "\n",
    "print (np.array([[1,2],[2,1]]))\n",
    "print (np.linalg.det(np.array([[1,2],[2,1]])))"
   ]
  },
  {
   "cell_type": "code",
   "execution_count": null,
   "metadata": {
    "collapsed": true
   },
   "outputs": [],
   "source": []
  }
 ],
 "metadata": {
  "kernelspec": {
   "display_name": "Python 3",
   "language": "python",
   "name": "python3"
  },
  "language_info": {
   "codemirror_mode": {
    "name": "ipython",
    "version": 3
   },
   "file_extension": ".py",
   "mimetype": "text/x-python",
   "name": "python",
   "nbconvert_exporter": "python",
   "pygments_lexer": "ipython3",
   "version": "3.6.7"
  }
 },
 "nbformat": 4,
 "nbformat_minor": 2
}
